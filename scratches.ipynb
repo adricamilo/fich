{
 "cells": [
  {
   "cell_type": "code",
   "execution_count": null,
   "metadata": {
    "collapsed": true,
    "ExecuteTime": {
     "start_time": "2023-04-19T22:56:01.114720Z",
     "end_time": "2023-04-19T22:56:01.133623Z"
    }
   },
   "outputs": [],
   "source": [
    "from math import floor\n",
    "\n",
    "def max_pool(height, kernel_size, stride=None, padding=0, dilation=1):\n",
    "    if stride is None:\n",
    "        stride = kernel_size\n",
    "    return floor((height + 2 * padding - dilation * (kernel_size - 1) - 1) / stride + 1)\n",
    "\n",
    "def conv(height, kernel_size, stride=1, padding=0, dilation=1):\n",
    "    return floor((height + 2 * padding - dilation * (kernel_size - 1) - 1) / stride + 1)"
   ]
  },
  {
   "cell_type": "code",
   "execution_count": null,
   "outputs": [],
   "source": [
    "sizes = [conv(400, 3)]\n",
    "for i in range(0, 8, 2):\n",
    "    sizes.append(max_pool(sizes[i], 2, stride=2))\n",
    "    sizes.append(conv(sizes[i+1], 3))\n",
    "sizes.append(max_pool(sizes[8], 2, stride=2))\n",
    "sizes"
   ],
   "metadata": {
    "collapsed": false,
    "ExecuteTime": {
     "start_time": "2023-04-19T22:56:01.133623Z",
     "end_time": "2023-04-19T22:56:01.162584Z"
    }
   }
  },
  {
   "cell_type": "code",
   "execution_count": null,
   "outputs": [],
   "source": [
    "[s ** 2 for s in sizes]"
   ],
   "metadata": {
    "collapsed": false,
    "ExecuteTime": {
     "start_time": "2023-04-19T22:56:01.162584Z",
     "end_time": "2023-04-19T22:56:01.185367Z"
    }
   }
  },
  {
   "cell_type": "code",
   "execution_count": null,
   "outputs": [],
   "source": [
    "import os\n",
    "import torchvision.transforms as transforms\n",
    "import torchvision.datasets as datasets"
   ],
   "metadata": {
    "collapsed": false,
    "ExecuteTime": {
     "start_time": "2023-04-19T22:56:01.180164Z",
     "end_time": "2023-04-19T22:56:02.261178Z"
    }
   }
  },
  {
   "cell_type": "code",
   "execution_count": null,
   "outputs": [],
   "source": [
    "data_dir = os.path.join(\"fich_database\", \"inputs\")\n",
    "dataset = datasets.ImageFolder(data_dir, transforms.ToTensor())"
   ],
   "metadata": {
    "collapsed": false,
    "ExecuteTime": {
     "start_time": "2023-04-19T22:56:02.258148Z",
     "end_time": "2023-04-19T22:56:02.274222Z"
    }
   }
  },
  {
   "cell_type": "code",
   "execution_count": null,
   "outputs": [],
   "source": [
    "sizes = list()\n",
    "for image, label in dataset:\n",
    "    s = transforms.functional.get_image_size(image)\n",
    "    sizes.append(s)"
   ],
   "metadata": {
    "collapsed": false,
    "ExecuteTime": {
     "start_time": "2023-04-19T22:56:02.274222Z",
     "end_time": "2023-04-19T22:59:04.873056Z"
    }
   }
  },
  {
   "cell_type": "code",
   "execution_count": null,
   "outputs": [],
   "source": [
    "import statistics as stat"
   ],
   "metadata": {
    "collapsed": false,
    "ExecuteTime": {
     "start_time": "2023-04-19T23:03:45.350631Z",
     "end_time": "2023-04-19T23:03:45.386630Z"
    }
   }
  },
  {
   "cell_type": "code",
   "execution_count": null,
   "outputs": [],
   "source": [
    "def stats(sizes, f):\n",
    "    f0 = f([s[0] for s in sizes])\n",
    "    f1 = f([s[1] for s in sizes])\n",
    "    return f0, f1"
   ],
   "metadata": {
    "collapsed": false,
    "ExecuteTime": {
     "start_time": "2023-04-19T23:12:16.719689Z",
     "end_time": "2023-04-19T23:12:16.724455Z"
    }
   }
  },
  {
   "cell_type": "code",
   "execution_count": null,
   "outputs": [],
   "source": [
    "stats(sizes, stat.stdev)"
   ],
   "metadata": {
    "collapsed": false,
    "ExecuteTime": {
     "start_time": "2023-04-19T23:12:51.873763Z",
     "end_time": "2023-04-19T23:12:51.906650Z"
    }
   }
  },
  {
   "cell_type": "code",
   "execution_count": null,
   "outputs": [],
   "source": [
    "stats(sizes, stat.mean)"
   ],
   "metadata": {
    "collapsed": false,
    "ExecuteTime": {
     "start_time": "2023-04-19T23:13:33.017932Z",
     "end_time": "2023-04-19T23:13:33.029558Z"
    }
   }
  },
  {
   "cell_type": "code",
   "execution_count": null,
   "outputs": [],
   "source": [
    "stats(sizes, min)"
   ],
   "metadata": {
    "collapsed": false,
    "ExecuteTime": {
     "start_time": "2023-04-19T23:13:42.405770Z",
     "end_time": "2023-04-19T23:13:42.421396Z"
    }
   }
  },
  {
   "cell_type": "code",
   "execution_count": null,
   "outputs": [],
   "source": [
    "stats(sizes, max)"
   ],
   "metadata": {
    "collapsed": false,
    "ExecuteTime": {
     "start_time": "2023-04-19T23:13:51.838540Z",
     "end_time": "2023-04-19T23:13:51.870278Z"
    }
   }
  },
  {
   "cell_type": "code",
   "execution_count": null,
   "outputs": [],
   "source": [
    "import pickle"
   ],
   "metadata": {
    "collapsed": false,
    "ExecuteTime": {
     "start_time": "2023-04-19T23:28:09.285430Z",
     "end_time": "2023-04-19T23:28:09.308582Z"
    }
   }
  },
  {
   "cell_type": "code",
   "execution_count": null,
   "outputs": [],
   "source": [
    "with open('image_sizes.pkl', 'wb') as file:\n",
    "    pickle.dump(sizes, file)"
   ],
   "metadata": {
    "collapsed": false,
    "ExecuteTime": {
     "start_time": "2023-04-19T23:30:03.064102Z",
     "end_time": "2023-04-19T23:30:03.079736Z"
    }
   }
  },
  {
   "cell_type": "code",
   "execution_count": null,
   "outputs": [],
   "source": [
    "with open('image_sizes.pkl', 'rb') as file:\n",
    "    loaded_object = pickle.load(file)"
   ],
   "metadata": {
    "collapsed": false,
    "ExecuteTime": {
     "start_time": "2023-04-19T23:32:03.150509Z",
     "end_time": "2023-04-19T23:32:03.166136Z"
    }
   }
  },
  {
   "cell_type": "code",
   "execution_count": null,
   "outputs": [],
   "source": [
    "stats(loaded_object, max)"
   ],
   "metadata": {
    "collapsed": false,
    "ExecuteTime": {
     "start_time": "2023-04-19T23:35:04.469567Z",
     "end_time": "2023-04-19T23:35:04.485578Z"
    }
   }
  },
  {
   "cell_type": "code",
   "execution_count": null,
   "outputs": [],
   "source": [
    "import torch"
   ],
   "metadata": {
    "collapsed": false,
    "ExecuteTime": {
     "start_time": "2023-04-19T23:44:40.444166Z",
     "end_time": "2023-04-19T23:44:40.460880Z"
    }
   }
  },
  {
   "cell_type": "code",
   "execution_count": null,
   "outputs": [],
   "source": [
    "torch.Tensor([2, 1]) * 2"
   ],
   "metadata": {
    "collapsed": false,
    "ExecuteTime": {
     "start_time": "2023-04-19T23:53:08.203624Z",
     "end_time": "2023-04-19T23:53:08.216362Z"
    }
   }
  },
  {
   "cell_type": "code",
   "execution_count": null,
   "outputs": [],
   "source": [
    "any([0, 1, 1])"
   ],
   "metadata": {
    "collapsed": false,
    "ExecuteTime": {
     "start_time": "2023-04-19T23:43:46.844887Z",
     "end_time": "2023-04-19T23:43:46.860519Z"
    }
   }
  },
  {
   "cell_type": "code",
   "execution_count": null,
   "outputs": [],
   "source": [],
   "metadata": {
    "collapsed": false
   }
  }
 ],
 "metadata": {
  "kernelspec": {
   "display_name": "Python 3",
   "language": "python",
   "name": "python3"
  },
  "language_info": {
   "codemirror_mode": {
    "name": "ipython",
    "version": 2
   },
   "file_extension": ".py",
   "mimetype": "text/x-python",
   "name": "python",
   "nbconvert_exporter": "python",
   "pygments_lexer": "ipython2",
   "version": "2.7.6"
  }
 },
 "nbformat": 4,
 "nbformat_minor": 0
}
