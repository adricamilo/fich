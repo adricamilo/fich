{
 "cells": [
  {
   "cell_type": "code",
   "execution_count": 1,
   "metadata": {
    "collapsed": true,
    "ExecuteTime": {
     "start_time": "2023-04-18T22:16:48.420649Z",
     "end_time": "2023-04-18T22:16:48.426158Z"
    }
   },
   "outputs": [],
   "source": [
    "from math import floor\n",
    "\n",
    "def max_pool(height, kernel_size, stride=None, padding=0, dilation=1):\n",
    "    if stride is None:\n",
    "        stride = kernel_size\n",
    "    return floor((height + 2 * padding - dilation * (kernel_size - 1) - 1) / stride + 1)\n",
    "\n",
    "def conv(height, kernel_size, stride=1, padding=0, dilation=1):\n",
    "    return floor((height + 2 * padding - dilation * (kernel_size - 1) - 1) / stride + 1)"
   ]
  },
  {
   "cell_type": "code",
   "execution_count": 2,
   "outputs": [
    {
     "data": {
      "text/plain": "[158404, 39601, 38809, 9604, 9216, 2304, 2116, 529, 441, 100]"
     },
     "execution_count": 2,
     "metadata": {},
     "output_type": "execute_result"
    }
   ],
   "source": [
    "sizes = [conv(400, 3)]\n",
    "for i in range(0, 8, 2):\n",
    "    sizes.append(max_pool(sizes[i], 2, stride=2))\n",
    "    sizes.append(conv(sizes[i+1], 3))\n",
    "sizes.append(max_pool(sizes[8], 2, stride=2))\n",
    "[s ** 2 for s in sizes]"
   ],
   "metadata": {
    "collapsed": false,
    "ExecuteTime": {
     "start_time": "2023-04-18T22:16:48.427955Z",
     "end_time": "2023-04-18T22:16:48.474861Z"
    }
   }
  },
  {
   "cell_type": "code",
   "execution_count": 3,
   "outputs": [
    {
     "data": {
      "text/plain": "[398, 199, 197, 98, 96, 48, 46, 23, 21, 10]"
     },
     "execution_count": 3,
     "metadata": {},
     "output_type": "execute_result"
    }
   ],
   "source": [
    "sizes"
   ],
   "metadata": {
    "collapsed": false,
    "ExecuteTime": {
     "start_time": "2023-04-18T22:16:48.474861Z",
     "end_time": "2023-04-18T22:16:48.522125Z"
    }
   }
  },
  {
   "cell_type": "code",
   "execution_count": 3,
   "outputs": [],
   "source": [
    "import torch"
   ],
   "metadata": {
    "collapsed": false,
    "ExecuteTime": {
     "start_time": "2023-04-19T08:12:24.284891Z",
     "end_time": "2023-04-19T08:12:26.041219Z"
    }
   }
  },
  {
   "cell_type": "code",
   "execution_count": 19,
   "outputs": [],
   "source": [
    "input = torch.randn(32,3)"
   ],
   "metadata": {
    "collapsed": false,
    "ExecuteTime": {
     "start_time": "2023-04-19T08:17:44.880373Z",
     "end_time": "2023-04-19T08:17:44.893551Z"
    }
   }
  },
  {
   "cell_type": "code",
   "execution_count": 29,
   "outputs": [
    {
     "data": {
      "text/plain": "tensor([[0.8074, 0.1526, 0.0400],\n        [0.3524, 0.2232, 0.4243],\n        [0.1712, 0.3032, 0.5256],\n        [0.2114, 0.5725, 0.2161],\n        [0.3880, 0.4075, 0.2046],\n        [0.1420, 0.7097, 0.1482],\n        [0.3465, 0.0513, 0.6022],\n        [0.2630, 0.0465, 0.6906],\n        [0.5528, 0.2344, 0.2128],\n        [0.1858, 0.7992, 0.0150],\n        [0.0960, 0.8034, 0.1006],\n        [0.6710, 0.1925, 0.1365],\n        [0.0641, 0.8463, 0.0896],\n        [0.0170, 0.0252, 0.9577],\n        [0.5526, 0.3680, 0.0794],\n        [0.1087, 0.8267, 0.0646],\n        [0.2848, 0.0705, 0.6447],\n        [0.2870, 0.0770, 0.6360],\n        [0.2313, 0.4887, 0.2800],\n        [0.1839, 0.7019, 0.1142],\n        [0.2778, 0.3744, 0.3478],\n        [0.9202, 0.0668, 0.0131],\n        [0.1310, 0.2483, 0.6207],\n        [0.3037, 0.0916, 0.6047],\n        [0.2758, 0.1876, 0.5365],\n        [0.1000, 0.3025, 0.5975],\n        [0.4403, 0.4160, 0.1437],\n        [0.0312, 0.5748, 0.3940],\n        [0.4257, 0.5163, 0.0580],\n        [0.8922, 0.0089, 0.0989],\n        [0.2380, 0.0939, 0.6680],\n        [0.6676, 0.1169, 0.2155]])"
     },
     "execution_count": 29,
     "metadata": {},
     "output_type": "execute_result"
    }
   ],
   "source": [
    "m = torch.nn.Softmax(dim=1)\n",
    "output = m(input)\n",
    "output"
   ],
   "metadata": {
    "collapsed": false,
    "ExecuteTime": {
     "start_time": "2023-04-19T08:19:40.685823Z",
     "end_time": "2023-04-19T08:19:40.703471Z"
    }
   }
  },
  {
   "cell_type": "code",
   "execution_count": 24,
   "outputs": [
    {
     "data": {
      "text/plain": "1.0"
     },
     "execution_count": 24,
     "metadata": {},
     "output_type": "execute_result"
    }
   ],
   "source": [
    "sum([0.8074, 0.1526, 0.0400])"
   ],
   "metadata": {
    "collapsed": false,
    "ExecuteTime": {
     "start_time": "2023-04-19T08:18:23.466530Z",
     "end_time": "2023-04-19T08:18:23.479039Z"
    }
   }
  },
  {
   "cell_type": "code",
   "execution_count": null,
   "outputs": [],
   "source": [],
   "metadata": {
    "collapsed": false
   }
  }
 ],
 "metadata": {
  "kernelspec": {
   "display_name": "Python 3",
   "language": "python",
   "name": "python3"
  },
  "language_info": {
   "codemirror_mode": {
    "name": "ipython",
    "version": 2
   },
   "file_extension": ".py",
   "mimetype": "text/x-python",
   "name": "python",
   "nbconvert_exporter": "python",
   "pygments_lexer": "ipython2",
   "version": "2.7.6"
  }
 },
 "nbformat": 4,
 "nbformat_minor": 0
}
