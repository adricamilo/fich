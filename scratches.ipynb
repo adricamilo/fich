{
 "cells": [
  {
   "cell_type": "code",
   "execution_count": null,
   "metadata": {
    "collapsed": true,
    "ExecuteTime": {
     "start_time": "2023-04-19T22:56:01.114720Z",
     "end_time": "2023-04-19T22:56:01.133623Z"
    }
   },
   "outputs": [],
   "source": [
    "from math import floor\n",
    "\n",
    "def max_pool(height, kernel_size, stride=None, padding=0, dilation=1):\n",
    "    if stride is None:\n",
    "        stride = kernel_size\n",
    "    return floor((height + 2 * padding - dilation * (kernel_size - 1) - 1) / stride + 1)\n",
    "\n",
    "def conv(height, kernel_size, stride=1, padding=0, dilation=1):\n",
    "    return floor((height + 2 * padding - dilation * (kernel_size - 1) - 1) / stride + 1)"
   ]
  },
  {
   "cell_type": "code",
   "execution_count": null,
   "outputs": [],
   "source": [
    "sizes = [conv(400, 3)]\n",
    "for i in range(0, 8, 2):\n",
    "    sizes.append(max_pool(sizes[i], 2, stride=2))\n",
    "    sizes.append(conv(sizes[i+1], 3))\n",
    "sizes.append(max_pool(sizes[8], 2, stride=2))\n",
    "sizes"
   ],
   "metadata": {
    "collapsed": false,
    "ExecuteTime": {
     "start_time": "2023-04-19T22:56:01.133623Z",
     "end_time": "2023-04-19T22:56:01.162584Z"
    }
   }
  },
  {
   "cell_type": "code",
   "execution_count": null,
   "outputs": [],
   "source": [
    "[s ** 2 for s in sizes]"
   ],
   "metadata": {
    "collapsed": false,
    "ExecuteTime": {
     "start_time": "2023-04-19T22:56:01.162584Z",
     "end_time": "2023-04-19T22:56:01.185367Z"
    }
   }
  },
  {
   "cell_type": "code",
   "execution_count": 1,
   "outputs": [],
   "source": [
    "import os\n",
    "import torchvision.transforms as transforms\n",
    "import torchvision.datasets as datasets"
   ],
   "metadata": {
    "collapsed": false,
    "ExecuteTime": {
     "start_time": "2023-04-20T23:04:20.556217Z",
     "end_time": "2023-04-20T23:04:22.531900Z"
    }
   }
  },
  {
   "cell_type": "code",
   "execution_count": 2,
   "outputs": [],
   "source": [
    "data_dir = os.path.join(\"fich_database\", \"inputs\")\n",
    "dataset = datasets.ImageFolder(data_dir, transforms.ToTensor())"
   ],
   "metadata": {
    "collapsed": false,
    "ExecuteTime": {
     "start_time": "2023-04-20T23:04:22.531900Z",
     "end_time": "2023-04-20T23:04:22.563166Z"
    }
   }
  },
  {
   "cell_type": "code",
   "execution_count": 3,
   "outputs": [],
   "source": [
    "sizes = list()\n",
    "for image, label in dataset:\n",
    "    s = transforms.functional.get_image_size(image)\n",
    "    sizes.append(s)"
   ],
   "metadata": {
    "collapsed": false,
    "ExecuteTime": {
     "start_time": "2023-04-20T23:04:22.563166Z",
     "end_time": "2023-04-20T23:09:06.938946Z"
    }
   }
  },
  {
   "cell_type": "code",
   "execution_count": 4,
   "outputs": [],
   "source": [
    "import statistics as stat"
   ],
   "metadata": {
    "collapsed": false,
    "ExecuteTime": {
     "start_time": "2023-04-20T23:09:06.938946Z",
     "end_time": "2023-04-20T23:09:06.954912Z"
    }
   }
  },
  {
   "cell_type": "code",
   "execution_count": 5,
   "outputs": [],
   "source": [
    "def stats(sizes, f):\n",
    "    f0 = f([s[0] for s in sizes])\n",
    "    f1 = f([s[1] for s in sizes])\n",
    "    return f0, f1"
   ],
   "metadata": {
    "collapsed": false,
    "ExecuteTime": {
     "start_time": "2023-04-20T23:09:06.954912Z",
     "end_time": "2023-04-20T23:09:06.970543Z"
    }
   }
  },
  {
   "cell_type": "code",
   "execution_count": 6,
   "outputs": [
    {
     "data": {
      "text/plain": "(1563.5263642279704, 1395.9083509326292)"
     },
     "execution_count": 6,
     "metadata": {},
     "output_type": "execute_result"
    }
   ],
   "source": [
    "stats(sizes, stat.stdev)"
   ],
   "metadata": {
    "collapsed": false,
    "ExecuteTime": {
     "start_time": "2023-04-20T23:09:06.970543Z",
     "end_time": "2023-04-20T23:09:07.017440Z"
    }
   }
  },
  {
   "cell_type": "code",
   "execution_count": 7,
   "outputs": [
    {
     "data": {
      "text/plain": "(1521.471254095919, 1349.5555555555557)"
     },
     "execution_count": 7,
     "metadata": {},
     "output_type": "execute_result"
    }
   ],
   "source": [
    "stats(sizes, stat.mean)"
   ],
   "metadata": {
    "collapsed": false,
    "ExecuteTime": {
     "start_time": "2023-04-20T23:09:07.017440Z",
     "end_time": "2023-04-20T23:09:07.033045Z"
    }
   }
  },
  {
   "cell_type": "code",
   "execution_count": 8,
   "outputs": [
    {
     "data": {
      "text/plain": "(270, 270)"
     },
     "execution_count": 8,
     "metadata": {},
     "output_type": "execute_result"
    }
   ],
   "source": [
    "stats(sizes, min)"
   ],
   "metadata": {
    "collapsed": false,
    "ExecuteTime": {
     "start_time": "2023-04-20T23:09:07.033045Z",
     "end_time": "2023-04-20T23:09:07.142431Z"
    }
   }
  },
  {
   "cell_type": "code",
   "execution_count": 9,
   "outputs": [
    {
     "data": {
      "text/plain": "(6684, 6684)"
     },
     "execution_count": 9,
     "metadata": {},
     "output_type": "execute_result"
    }
   ],
   "source": [
    "stats(sizes, max)"
   ],
   "metadata": {
    "collapsed": false,
    "ExecuteTime": {
     "start_time": "2023-04-20T23:09:07.048669Z",
     "end_time": "2023-04-20T23:09:07.142431Z"
    }
   }
  },
  {
   "cell_type": "code",
   "execution_count": 10,
   "outputs": [],
   "source": [
    "import pickle"
   ],
   "metadata": {
    "collapsed": false,
    "ExecuteTime": {
     "start_time": "2023-04-20T23:09:07.064293Z",
     "end_time": "2023-04-20T23:09:07.142431Z"
    }
   }
  },
  {
   "cell_type": "code",
   "execution_count": 11,
   "outputs": [],
   "source": [
    "with open('image_sizes.pkl', 'wb') as file:\n",
    "    pickle.dump(sizes, file)"
   ],
   "metadata": {
    "collapsed": false,
    "ExecuteTime": {
     "start_time": "2023-04-20T23:09:07.079919Z",
     "end_time": "2023-04-20T23:09:07.142431Z"
    }
   }
  },
  {
   "cell_type": "code",
   "execution_count": 12,
   "outputs": [],
   "source": [
    "with open('image_sizes.pkl', 'rb') as file:\n",
    "    loaded_object = pickle.load(file)"
   ],
   "metadata": {
    "collapsed": false,
    "ExecuteTime": {
     "start_time": "2023-04-20T23:09:07.095544Z",
     "end_time": "2023-04-20T23:09:07.142431Z"
    }
   }
  },
  {
   "cell_type": "code",
   "execution_count": 15,
   "outputs": [
    {
     "data": {
      "text/plain": "(1563.5263642279704, 1395.9083509326292)"
     },
     "execution_count": 15,
     "metadata": {},
     "output_type": "execute_result"
    }
   ],
   "source": [
    "stats(loaded_object, stat.stdev)"
   ],
   "metadata": {
    "collapsed": false,
    "ExecuteTime": {
     "start_time": "2023-04-20T23:10:16.656068Z",
     "end_time": "2023-04-20T23:10:16.687780Z"
    }
   }
  },
  {
   "cell_type": "code",
   "execution_count": null,
   "outputs": [],
   "source": [
    "def resize(image):\n",
    "    # noinspection PyUnresolvedReferences\n",
    "    size = torch.tensor(transforms.functional.get_image_size(image))\n",
    "    if all(size >= 400) and any(size <= 800):\n",
    "        return image\n",
    "    new_size = (size * torch.ceil(600 / torch.min(size))).int().tolist()\n",
    "    t = transforms.Resize(new_size, antialias=True)\n",
    "    return t(image)"
   ],
   "metadata": {
    "collapsed": false
   }
  }
 ],
 "metadata": {
  "kernelspec": {
   "display_name": "Python 3",
   "language": "python",
   "name": "python3"
  },
  "language_info": {
   "codemirror_mode": {
    "name": "ipython",
    "version": 2
   },
   "file_extension": ".py",
   "mimetype": "text/x-python",
   "name": "python",
   "nbconvert_exporter": "python",
   "pygments_lexer": "ipython2",
   "version": "2.7.6"
  }
 },
 "nbformat": 4,
 "nbformat_minor": 0
}
