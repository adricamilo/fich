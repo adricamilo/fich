{
 "cells": [
  {
   "cell_type": "code",
   "execution_count": 1,
   "metadata": {
    "collapsed": true,
    "ExecuteTime": {
     "start_time": "2023-04-18T22:16:48.420649Z",
     "end_time": "2023-04-18T22:16:48.426158Z"
    }
   },
   "outputs": [],
   "source": [
    "from math import floor\n",
    "\n",
    "def max_pool(height, kernel_size, stride=None, padding=0, dilation=1):\n",
    "    if stride is None:\n",
    "        stride = kernel_size\n",
    "    return floor((height + 2 * padding - dilation * (kernel_size - 1) - 1) / stride + 1)\n",
    "\n",
    "def conv(height, kernel_size, stride=1, padding=0, dilation=1):\n",
    "    return floor((height + 2 * padding - dilation * (kernel_size - 1) - 1) / stride + 1)"
   ]
  },
  {
   "cell_type": "code",
   "execution_count": 2,
   "outputs": [
    {
     "data": {
      "text/plain": "[158404, 39601, 38809, 9604, 9216, 2304, 2116, 529, 441, 100]"
     },
     "execution_count": 2,
     "metadata": {},
     "output_type": "execute_result"
    }
   ],
   "source": [
    "sizes = [conv(400, 3)]\n",
    "for i in range(0, 8, 2):\n",
    "    sizes.append(max_pool(sizes[i], 2, stride=2))\n",
    "    sizes.append(conv(sizes[i+1], 3))\n",
    "sizes.append(max_pool(sizes[8], 2, stride=2))\n",
    "[s ** 2 for s in sizes]"
   ],
   "metadata": {
    "collapsed": false,
    "ExecuteTime": {
     "start_time": "2023-04-18T22:16:48.427955Z",
     "end_time": "2023-04-18T22:16:48.474861Z"
    }
   }
  },
  {
   "cell_type": "code",
   "execution_count": 3,
   "outputs": [
    {
     "data": {
      "text/plain": "[398, 199, 197, 98, 96, 48, 46, 23, 21, 10]"
     },
     "execution_count": 3,
     "metadata": {},
     "output_type": "execute_result"
    }
   ],
   "source": [
    "sizes"
   ],
   "metadata": {
    "collapsed": false,
    "ExecuteTime": {
     "start_time": "2023-04-18T22:16:48.474861Z",
     "end_time": "2023-04-18T22:16:48.522125Z"
    }
   }
  },
  {
   "cell_type": "code",
   "execution_count": 4,
   "outputs": [],
   "source": [
    "import torch"
   ],
   "metadata": {
    "collapsed": false,
    "ExecuteTime": {
     "start_time": "2023-04-18T22:16:48.522125Z",
     "end_time": "2023-04-18T22:16:50.221430Z"
    }
   }
  },
  {
   "cell_type": "code",
   "execution_count": 11,
   "outputs": [
    {
     "data": {
      "text/plain": "torch.Size([20, 100, 35, 45])"
     },
     "execution_count": 11,
     "metadata": {},
     "output_type": "execute_result"
    }
   ],
   "source": [
    "torch.randn(20, 100, 35, 45).size()"
   ],
   "metadata": {
    "collapsed": false,
    "ExecuteTime": {
     "start_time": "2023-04-18T22:17:43.779019Z",
     "end_time": "2023-04-18T22:17:43.805366Z"
    }
   }
  },
  {
   "cell_type": "code",
   "execution_count": null,
   "outputs": [],
   "source": [],
   "metadata": {
    "collapsed": false
   }
  }
 ],
 "metadata": {
  "kernelspec": {
   "display_name": "Python 3",
   "language": "python",
   "name": "python3"
  },
  "language_info": {
   "codemirror_mode": {
    "name": "ipython",
    "version": 2
   },
   "file_extension": ".py",
   "mimetype": "text/x-python",
   "name": "python",
   "nbconvert_exporter": "python",
   "pygments_lexer": "ipython2",
   "version": "2.7.6"
  }
 },
 "nbformat": 4,
 "nbformat_minor": 0
}
